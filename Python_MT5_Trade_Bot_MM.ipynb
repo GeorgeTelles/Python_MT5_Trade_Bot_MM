{
  "cells": [
    {
      "cell_type": "markdown",
      "id": "2eae638a",
      "metadata": {
        "id": "2eae638a"
      },
      "source": [
        "<img src=\"https://raw.githubusercontent.com/GeorgeTelles/georgetelles/f69531ec6b293b5148563588a764c010015d315e/logo_clara.png\" width=\"300\" align=\"left\"/>"
      ]
    },
    {
      "cell_type": "markdown",
      "id": "a1ea4646-4b4c-4531-a53b-5e4e846514a5",
      "metadata": {
        "id": "a1ea4646-4b4c-4531-a53b-5e4e846514a5"
      },
      "source": [
        "------\n",
        "# **Operando com Python e MetaTrader5**\n",
        "------"
      ]
    },
    {
      "cell_type": "markdown",
      "id": "c7ea8a97",
      "metadata": {},
      "source": [
        "**Este projeto desenvolve um sistema automatizado para análise e operação no mercado de ações, focado no Índice Bovespa (IBOV). O sistema é projetado para monitorar múltiplos ativos vinculados ao IBOV, analisando suas médias móveis e executando operações de compra e venda com base em regras predefinidas. A integração com o MetaTrader 5 permite a execução automática das operações identificadas pelo sistema.**\n",
        "\n",
        "**Funcionalidades**\n",
        "- Análise de Médias Móveis: O sistema calcula as médias móveis de diversos ativos do IBOV para identificar tendências e padrões de mercado.\n",
        "\n",
        "- Avaliação de Condições: Verifica se os ativos atendem às condições ideais para operação com base em um conjunto de regras predefinidas, como cruzamentos de médias móveis e outras métricas técnicas.\n",
        "\n",
        "- Execução Automática de Operações: Utiliza o MetaTrader 5 para abrir e gerenciar operações de compra e venda automaticamente, de acordo com as condições determinadas.\n",
        "\n",
        "**Como Funciona**\n",
        "- Coleta de Dados: O sistema coleta dados históricos e em tempo real dos ativos vinculados ao IBOV através de APIs financeiras ou feeds de dados.\n",
        "\n",
        "- Cálculo de Médias Móveis: Processa os dados para calcular as médias móveis de curto e longo prazo, entre outras métricas necessárias.\n",
        "\n",
        "- Aplicação de Regras de Operação: Com base nas regras de operação definidas, o sistema avalia quais ativos estão em conformidade e, portanto, são candidatos para operações.\n",
        "\n",
        "- Integração com MetaTrader 5: Através da API do MetaTrader 5, o sistema envia comandos para abrir, gerenciar e fechar ordens de forma automática, facilitando uma gestão ágil e eficiente das operações."
      ]
    },
    {
      "cell_type": "markdown",
      "id": "574fefa2",
      "metadata": {
        "id": "574fefa2"
      },
      "source": [
        "#### *Disclaimer:*\n",
        "Este código foi elaborado para fins demostrativos. O codigo aqui apresentado visa fornecer informações para auxiliar o investidor na tomada de suas próprias decisões de investimento. Reforçando, nenhum tópico aqui abordado constitui qualquer tipo de indicação/oferta/solicitação de compra/venda de qualquer produto."
      ]
    },
    {
      "cell_type": "markdown",
      "id": "ba869e3b-bbab-4c74-a2a7-5706599d6091",
      "metadata": {
        "id": "ba869e3b-bbab-4c74-a2a7-5706599d6091",
        "tags": []
      },
      "source": [
        "# 1. Bibliotecas"
      ]
    },
    {
      "cell_type": "code",
      "execution_count": null,
      "id": "e0bd7bd9",
      "metadata": {
        "id": "e0bd7bd9"
      },
      "outputs": [],
      "source": [
        "%pip install MetaTrader5"
      ]
    },
    {
      "cell_type": "code",
      "execution_count": null,
      "id": "863e2582-1857-4c34-b6c3-53ec1316c97b",
      "metadata": {
        "id": "863e2582-1857-4c34-b6c3-53ec1316c97b"
      },
      "outputs": [],
      "source": [
        "# Análise e manipulação de dados\n",
        "\n",
        "import numpy as np\n",
        "import pandas as pd\n",
        "\n",
        "# Dados séries temporais\n",
        "\n",
        "from datetime import datetime, timedelta\n",
        "import pytz\n",
        "from time import sleep\n",
        "\n",
        "# Bibliotecas gráficas\n",
        "\n",
        "import plotly.graph_objects as go\n",
        "from plotly.subplots import make_subplots\n",
        "\n",
        "# Integração com MetaTrader 5\n",
        "\n",
        "import MetaTrader5 as mt5"
      ]
    },
    {
      "cell_type": "markdown",
      "id": "8bde0aed-5b55-4895-ae23-c222b95a0cb1",
      "metadata": {
        "id": "8bde0aed-5b55-4895-ae23-c222b95a0cb1",
        "tags": []
      },
      "source": [
        "# 2. Iniciar o MT5 e configurar os ativos desejados"
      ]
    },
    {
      "cell_type": "code",
      "execution_count": null,
      "id": "616cb82d-8163-4e5f-ab80-fa2d25272053",
      "metadata": {
        "id": "616cb82d-8163-4e5f-ab80-fa2d25272053",
        "outputId": "16e690a7-69f5-4e6f-b59d-7bb79e925d42"
      },
      "outputs": [],
      "source": [
        "mt5.initialize()"
      ]
    },
    {
      "cell_type": "code",
      "execution_count": null,
      "id": "e81b086f",
      "metadata": {
        "id": "e81b086f"
      },
      "outputs": [],
      "source": [
        "lista_tickers = [\"ABEV3\", \"ALPA4\", \"AZZA3\", \"ASAI3\", \"AZUL4\", \"B3SA3\", \"BBAS3\",\n",
        "                \"BBDC3\", \"BBDC4\", \"BBSE3\", \"BEEF3\", \"BPAC11\", \"BPAN4\", \"BRAP4\", \"BRFS3\",\n",
        "                \"BRKM5\", \"CASH3\", \"CCRO3\", \"CIEL3\", \"CMIG4\", \"CMIN3\", \"COGN3\", \"CPFE3\",\n",
        "                \"CPLE6\", \"CRFB3\", \"CSAN3\", \"CSNA3\", \"CVCB3\", \"CYRE3\",  \"DXCO3\", \"ECOR3\",\n",
        "                \"EGIE3\", \"ELET3\", \"ELET6\", \"EMBR3\", \"ENEV3\", \"ENGI11\", \"EQTL3\",\n",
        "                \"EZTC3\", \"FLRY3\", \"GGBR4\", \"GOAU4\", \"GOLL4\", \"HAPV3\", \"HYPE3\", \"IGTI11\",\n",
        "                \"ITSA4\", \"ITUB4\", \"JBSS3\", \"KLBN11\", \"LREN3\", \"LWSA3\", \"MGLU3\", \"MRFG3\",\n",
        "                \"MRVE3\", \"MULT3\", \"NTCO3\", \"PCAR3\", \"PETR3\", \"PETR4\", \"PETZ3\", \"PRIO3\",\n",
        "                \"QUAL3\", \"RADL3\", \"RAIL3\", \"RAIZ4\", \"RDOR3\", \"RENT3\", \"RRRP3\", \"SANB11\",\n",
        "                \"SBSP3\", \"SLCE3\", \"SMTO3\", \"SUZB3\", \"TAEE11\", \"TIMS3\", \"TOTS3\",\n",
        "                \"UGPA3\", \"USIM5\", \"VALE3\", \"VBBR3\", \"VIVT3\", \"WEGE3\", \"YDUQ3\",]"
      ]
    },
    {
      "cell_type": "code",
      "execution_count": null,
      "id": "e3666820",
      "metadata": {
        "id": "e3666820",
        "outputId": "141f39d3-410a-45e4-fb98-2bcf819505d7"
      },
      "outputs": [],
      "source": [
        "for ticker in lista_tickers:\n",
        "    selected=mt5.symbol_select(ticker,True)\n",
        "    if selected:\n",
        "        pass\n",
        "    if not selected:\n",
        "        print(ticker,\"não localizado\")"
      ]
    },
    {
      "cell_type": "markdown",
      "id": "2ae8704a",
      "metadata": {
        "id": "2ae8704a"
      },
      "source": [
        "# 3. Criar screening de ativos"
      ]
    },
    {
      "cell_type": "markdown",
      "id": "5b7ce20b",
      "metadata": {
        "id": "5b7ce20b"
      },
      "source": [
        "### 3.1. Organizar os dados de cotações"
      ]
    },
    {
      "cell_type": "code",
      "execution_count": null,
      "id": "404dc590",
      "metadata": {
        "id": "404dc590",
        "outputId": "b5298e08-1319-4c08-e42a-bb460471d758"
      },
      "outputs": [],
      "source": [
        "timezone = pytz.timezone(\"America/Sao_Paulo\")\n",
        "data_inicio = datetime.now() - timedelta(days=500)\n",
        "data_fim = datetime.now()\n",
        "data_inicio"
      ]
    },
    {
      "cell_type": "code",
      "execution_count": null,
      "id": "1bbbf63b",
      "metadata": {
        "id": "1bbbf63b"
      },
      "outputs": [],
      "source": [
        "cotacoes_mt5_all = []\n",
        "\n",
        "for ticker in lista_tickers:\n",
        "    cotacoes_mt5_ticker = mt5.copy_rates_range(ticker, mt5.TIMEFRAME_D1, data_inicio, data_fim)\n",
        "    cotacoes_mt5_ticker = pd.DataFrame(cotacoes_mt5_ticker)\n",
        "    cotacoes_mt5_ticker['ticker'] = str(ticker)\n",
        "    cotacoes_mt5_ticker.index = pd.to_datetime(cotacoes_mt5_ticker['time'], unit='s')\n",
        "    cotacoes_mt5_all.append(cotacoes_mt5_ticker)"
      ]
    },
    {
      "cell_type": "code",
      "execution_count": null,
      "id": "5b9f7ba0",
      "metadata": {
        "id": "5b9f7ba0",
        "outputId": "f8042dc9-4b7d-4e06-c59a-ba3753d24f0b"
      },
      "outputs": [],
      "source": [
        "list(enumerate(lista_tickers))"
      ]
    },
    {
      "cell_type": "markdown",
      "id": "2f6e88bf",
      "metadata": {
        "id": "2f6e88bf"
      },
      "source": [
        "### 3.2. Adicionar indicadores e regras do screening"
      ]
    },
    {
      "cell_type": "code",
      "execution_count": null,
      "id": "2e1537f2",
      "metadata": {
        "id": "2e1537f2"
      },
      "outputs": [],
      "source": [
        "for i in range(0,len(cotacoes_mt5_all)):\n",
        "  cotacoes_mt5_all[i]['SMA_20p'] = cotacoes_mt5_all[i]['close'].rolling(20).mean()\n",
        "  cotacoes_mt5_all[i]['SMA_200p'] = cotacoes_mt5_all[i]['close'].rolling(200).mean()"
      ]
    },
    {
      "cell_type": "markdown",
      "id": "063fc887",
      "metadata": {
        "id": "063fc887"
      },
      "source": [
        "Vamos imaginar duas regra simples:\n",
        "\n",
        "1) Ativos cuja **MM_20p seja maior que a MM_200p**\n",
        "2) Ativos cujo **fechamento esteja acima da MM_20p**"
      ]
    },
    {
      "cell_type": "code",
      "execution_count": null,
      "id": "5567fd67",
      "metadata": {
        "id": "5567fd67",
        "outputId": "c615c7d7-7a2d-406d-f957-0690c2e5b29c"
      },
      "outputs": [],
      "source": [
        "ls_screening_Regra_SMA = []\n",
        "\n",
        "for i in range(0,len(cotacoes_mt5_all)):\n",
        "    if (cotacoes_mt5_all[i].iloc[-1]['SMA_20p'] > cotacoes_mt5_all[i].iloc[-1]['SMA_200p']) & \\\n",
        "      (cotacoes_mt5_all[i].iloc[-1]['close'] > cotacoes_mt5_all[i].iloc[-1]['SMA_20p']):\n",
        "        ls_screening_Regra_SMA.append((lista_tickers[i]))\n",
        "        print(\"O ativo indexado como\",i,\"(\"+lista_tickers[i]+\") atende às regras\")\n",
        "    else:\n",
        "        # print(lista_tickers[i],\"não atende\")\n",
        "        pass"
      ]
    },
    {
      "cell_type": "markdown",
      "id": "f15d1c72",
      "metadata": {
        "id": "f15d1c72"
      },
      "source": [
        "### 3.3. Checando com a visualização gráfica"
      ]
    },
    {
      "cell_type": "code",
      "execution_count": null,
      "id": "784fe515",
      "metadata": {
        "id": "784fe515",
        "outputId": "0e5ae417-b05e-45ed-9202-71e20ac4e568"
      },
      "outputs": [],
      "source": [
        "n_ativo = 9\n",
        "\n",
        "cotacoes_df = cotacoes_mt5_all[n_ativo].iloc[-30:]\n",
        "\n",
        "fig_cotacoes = go.Figure(data=[go.Candlestick(name=cotacoes_df.ticker.iloc[n_ativo],x=cotacoes_df.index, open=cotacoes_df['open'], high = cotacoes_df['high'],\n",
        "                                                low=cotacoes_df['low'], close=cotacoes_df['close'])])\n",
        "\n",
        "fig_cotacoes.add_trace(go.Scatter(name='SMA_20p', x=cotacoes_df.index, y=cotacoes_df['SMA_20p'],marker_color='blue'))\n",
        "fig_cotacoes.add_trace(go.Scatter(name='SMA_200p', x=cotacoes_df.index, y=cotacoes_df['SMA_200p'],marker_color='black'))\n",
        "\n",
        "fig_cotacoes.update_yaxes(title_text=\"<b> Preço Ativo (R$)\")\n",
        "fig_cotacoes.update_layout(xaxis_rangeslider_visible=False, title_text='Grafico Candlestick Ativo',template = 'simple_white',width=500,height=500,showlegend=True)\n",
        "fig_cotacoes.show()"
      ]
    },
    {
      "cell_type": "markdown",
      "id": "f1943766",
      "metadata": {
        "id": "f1943766"
      },
      "source": [
        "# 4. Automatizando o trade baseado nas regras"
      ]
    },
    {
      "cell_type": "markdown",
      "id": "412a9230",
      "metadata": {},
      "source": [
        "**Caracteristicas da operação:**\n",
        "- O preço do ativo precisa estar acima da Media movel de 20 e da média movel de 200\n",
        "- Lote de 100 Ações\n",
        "- Stop loss de 8 pontos\n",
        "- Take profit de 8 Pontos\n",
        "- Caso o ativo já esteja comprado o robô não entra em operação"
      ]
    },
    {
      "cell_type": "code",
      "execution_count": null,
      "id": "13447840",
      "metadata": {
        "id": "13447840",
        "outputId": "8b2b12ef-24ed-4a85-b14b-c83d12ccbe2d"
      },
      "outputs": [],
      "source": [
        "timezone = pytz.timezone(\"America/Sao_Paulo\")\n",
        "data_inicio = datetime.now() - timedelta(days=3)\n",
        "data_fim = datetime.now()\n",
        "\n",
        "contagem = 0\n",
        "\n",
        "while contagem < 15:\n",
        "\n",
        "    print('------- Inicio do',contagem,' round -------')\n",
        "    for ticker in lista_tickers:\n",
        "\n",
        "        cotacoes_mt5_ticker = mt5.copy_rates_range(ticker, mt5.TIMEFRAME_M1, data_inicio, data_fim)\n",
        "        cotacoes_mt5_ticker = pd.DataFrame(cotacoes_mt5_ticker)\n",
        "        cotacoes_mt5_ticker.index = pd.to_datetime(cotacoes_mt5_ticker['time'], unit='s')\n",
        "        cotacoes_mt5_ticker['ticker'] = str(ticker)\n",
        "        cotacoes_mt5_ticker['SMA_rapida'] = cotacoes_mt5_ticker['close'].rolling(10).mean()\n",
        "        cotacoes_mt5_ticker['SMA_lenta'] = cotacoes_mt5_ticker['close'].rolling(20).mean()\n",
        "\n",
        "        if (cotacoes_mt5_ticker.iloc[-1]['SMA_rapida'] > cotacoes_mt5_ticker.iloc[-1]['SMA_lenta']) & \\\n",
        "            (cotacoes_mt5_ticker.iloc[-1]['close'] > cotacoes_mt5_ticker.iloc[-1]['SMA_rapida']):\n",
        "            print(\"O ativo indexado como\",ticker, \"atende às regras e será comprado\")\n",
        "\n",
        "            positions = mt5.positions_get(symbol=ticker)\n",
        "            if len(positions)==0:\n",
        "                qtd = 100.0\n",
        "                tick_min = mt5.symbol_info(ticker).point\n",
        "                preco = mt5.symbol_info_tick(ticker).ask\n",
        "                ordem_compra = {\n",
        "                    \"action\": mt5.TRADE_ACTION_DEAL,\n",
        "                    \"symbol\": ticker,\n",
        "                    \"volume\": qtd,\n",
        "                    \"type\": mt5.ORDER_TYPE_BUY,\n",
        "                    \"price\": preco,\n",
        "                    \"sl\": preco - 8 * tick_min,\n",
        "                    \"tp\": preco + 8 * tick_min,\n",
        "                    \"magic\": 1,\n",
        "                    \"comment\": \"Automatizando trades\",\n",
        "                    \"type_time\": mt5.ORDER_TIME_DAY,\n",
        "                    \"type_filling\": mt5.ORDER_FILLING_RETURN,\n",
        "                    }\n",
        "                result_compra = mt5.order_send(ordem_compra)\n",
        "            else:\n",
        "                print(ticker,\"já posicionado\")\n",
        "\n",
        "        else:\n",
        "            # print(ticker,\"não atende ao screening\")\n",
        "            pass\n",
        "\n",
        "        sleep(1)\n",
        "\n",
        "    contagem += 1\n",
        "    sleep(30)"
      ]
    },
    {
      "cell_type": "code",
      "execution_count": null,
      "id": "87bb1ee2",
      "metadata": {
        "id": "87bb1ee2"
      },
      "outputs": [],
      "source": []
    }
  ],
  "metadata": {
    "colab": {
      "provenance": []
    },
    "kernelspec": {
      "display_name": "Python 3.9.7 ('base')",
      "language": "python",
      "name": "python3"
    },
    "language_info": {
      "codemirror_mode": {
        "name": "ipython",
        "version": 3
      },
      "file_extension": ".py",
      "mimetype": "text/x-python",
      "name": "python",
      "nbconvert_exporter": "python",
      "pygments_lexer": "ipython3",
      "version": "3.12.4"
    },
    "vscode": {
      "interpreter": {
        "hash": "e06b40c6137042d8892c2eda6f37a8f74933dd747fa61ea5f8a3936389984de1"
      }
    }
  },
  "nbformat": 4,
  "nbformat_minor": 5
}
